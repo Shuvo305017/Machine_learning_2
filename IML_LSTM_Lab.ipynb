{
  "nbformat": 4,
  "nbformat_minor": 0,
  "metadata": {
    "colab": {
      "provenance": []
    },
    "kernelspec": {
      "name": "python3",
      "display_name": "Python 3"
    },
    "language_info": {
      "name": "python"
    }
  },
  "cells": [
    {
      "cell_type": "code",
      "execution_count": 1,
      "metadata": {
        "colab": {
          "base_uri": "https://localhost:8080/"
        },
        "id": "C3WEN47MWrCg",
        "outputId": "e953f485-c4a4-4db8-93be-790070d2a5d9"
      },
      "outputs": [
        {
          "output_type": "stream",
          "name": "stdout",
          "text": [
            "Requirement already satisfied: tensorflow in /usr/local/lib/python3.10/dist-packages (2.17.1)\n",
            "Requirement already satisfied: absl-py>=1.0.0 in /usr/local/lib/python3.10/dist-packages (from tensorflow) (1.4.0)\n",
            "Requirement already satisfied: astunparse>=1.6.0 in /usr/local/lib/python3.10/dist-packages (from tensorflow) (1.6.3)\n",
            "Requirement already satisfied: flatbuffers>=24.3.25 in /usr/local/lib/python3.10/dist-packages (from tensorflow) (24.12.23)\n",
            "Requirement already satisfied: gast!=0.5.0,!=0.5.1,!=0.5.2,>=0.2.1 in /usr/local/lib/python3.10/dist-packages (from tensorflow) (0.6.0)\n",
            "Requirement already satisfied: google-pasta>=0.1.1 in /usr/local/lib/python3.10/dist-packages (from tensorflow) (0.2.0)\n",
            "Requirement already satisfied: h5py>=3.10.0 in /usr/local/lib/python3.10/dist-packages (from tensorflow) (3.12.1)\n",
            "Requirement already satisfied: libclang>=13.0.0 in /usr/local/lib/python3.10/dist-packages (from tensorflow) (18.1.1)\n",
            "Requirement already satisfied: ml-dtypes<0.5.0,>=0.3.1 in /usr/local/lib/python3.10/dist-packages (from tensorflow) (0.4.1)\n",
            "Requirement already satisfied: opt-einsum>=2.3.2 in /usr/local/lib/python3.10/dist-packages (from tensorflow) (3.4.0)\n",
            "Requirement already satisfied: packaging in /usr/local/lib/python3.10/dist-packages (from tensorflow) (24.2)\n",
            "Requirement already satisfied: protobuf!=4.21.0,!=4.21.1,!=4.21.2,!=4.21.3,!=4.21.4,!=4.21.5,<5.0.0dev,>=3.20.3 in /usr/local/lib/python3.10/dist-packages (from tensorflow) (4.25.5)\n",
            "Requirement already satisfied: requests<3,>=2.21.0 in /usr/local/lib/python3.10/dist-packages (from tensorflow) (2.32.3)\n",
            "Requirement already satisfied: setuptools in /usr/local/lib/python3.10/dist-packages (from tensorflow) (75.1.0)\n",
            "Requirement already satisfied: six>=1.12.0 in /usr/local/lib/python3.10/dist-packages (from tensorflow) (1.17.0)\n",
            "Requirement already satisfied: termcolor>=1.1.0 in /usr/local/lib/python3.10/dist-packages (from tensorflow) (2.5.0)\n",
            "Requirement already satisfied: typing-extensions>=3.6.6 in /usr/local/lib/python3.10/dist-packages (from tensorflow) (4.12.2)\n",
            "Requirement already satisfied: wrapt>=1.11.0 in /usr/local/lib/python3.10/dist-packages (from tensorflow) (1.17.0)\n",
            "Requirement already satisfied: grpcio<2.0,>=1.24.3 in /usr/local/lib/python3.10/dist-packages (from tensorflow) (1.69.0)\n",
            "Requirement already satisfied: tensorboard<2.18,>=2.17 in /usr/local/lib/python3.10/dist-packages (from tensorflow) (2.17.1)\n",
            "Requirement already satisfied: keras>=3.2.0 in /usr/local/lib/python3.10/dist-packages (from tensorflow) (3.5.0)\n",
            "Requirement already satisfied: tensorflow-io-gcs-filesystem>=0.23.1 in /usr/local/lib/python3.10/dist-packages (from tensorflow) (0.37.1)\n",
            "Requirement already satisfied: numpy<2.0.0,>=1.23.5 in /usr/local/lib/python3.10/dist-packages (from tensorflow) (1.26.4)\n",
            "Requirement already satisfied: wheel<1.0,>=0.23.0 in /usr/local/lib/python3.10/dist-packages (from astunparse>=1.6.0->tensorflow) (0.45.1)\n",
            "Requirement already satisfied: rich in /usr/local/lib/python3.10/dist-packages (from keras>=3.2.0->tensorflow) (13.9.4)\n",
            "Requirement already satisfied: namex in /usr/local/lib/python3.10/dist-packages (from keras>=3.2.0->tensorflow) (0.0.8)\n",
            "Requirement already satisfied: optree in /usr/local/lib/python3.10/dist-packages (from keras>=3.2.0->tensorflow) (0.13.1)\n",
            "Requirement already satisfied: charset-normalizer<4,>=2 in /usr/local/lib/python3.10/dist-packages (from requests<3,>=2.21.0->tensorflow) (3.4.1)\n",
            "Requirement already satisfied: idna<4,>=2.5 in /usr/local/lib/python3.10/dist-packages (from requests<3,>=2.21.0->tensorflow) (3.10)\n",
            "Requirement already satisfied: urllib3<3,>=1.21.1 in /usr/local/lib/python3.10/dist-packages (from requests<3,>=2.21.0->tensorflow) (2.3.0)\n",
            "Requirement already satisfied: certifi>=2017.4.17 in /usr/local/lib/python3.10/dist-packages (from requests<3,>=2.21.0->tensorflow) (2024.12.14)\n",
            "Requirement already satisfied: markdown>=2.6.8 in /usr/local/lib/python3.10/dist-packages (from tensorboard<2.18,>=2.17->tensorflow) (3.7)\n",
            "Requirement already satisfied: tensorboard-data-server<0.8.0,>=0.7.0 in /usr/local/lib/python3.10/dist-packages (from tensorboard<2.18,>=2.17->tensorflow) (0.7.2)\n",
            "Requirement already satisfied: werkzeug>=1.0.1 in /usr/local/lib/python3.10/dist-packages (from tensorboard<2.18,>=2.17->tensorflow) (3.1.3)\n",
            "Requirement already satisfied: MarkupSafe>=2.1.1 in /usr/local/lib/python3.10/dist-packages (from werkzeug>=1.0.1->tensorboard<2.18,>=2.17->tensorflow) (3.0.2)\n",
            "Requirement already satisfied: markdown-it-py>=2.2.0 in /usr/local/lib/python3.10/dist-packages (from rich->keras>=3.2.0->tensorflow) (3.0.0)\n",
            "Requirement already satisfied: pygments<3.0.0,>=2.13.0 in /usr/local/lib/python3.10/dist-packages (from rich->keras>=3.2.0->tensorflow) (2.18.0)\n",
            "Requirement already satisfied: mdurl~=0.1 in /usr/local/lib/python3.10/dist-packages (from markdown-it-py>=2.2.0->rich->keras>=3.2.0->tensorflow) (0.1.2)\n"
          ]
        }
      ],
      "source": [
        "!pip install tensorflow"
      ]
    },
    {
      "cell_type": "code",
      "source": [
        "import numpy as np\n",
        "import pandas as pd\n",
        "from sklearn.preprocessing import MinMaxScaler\n",
        "from sklearn.model_selection import train_test_split\n",
        "from tensorflow.keras.models import Sequential\n",
        "from tensorflow.keras.layers import LSTM, Dense, Dropout, Input\n",
        "from tensorflow.keras.optimizers import Adam, SGD\n",
        "import matplotlib.pyplot as plt\n",
        "\n",
        "# Step 1: Load the dataset\n",
        "data = pd.read_csv('/content/AirPassengers.csv')\n",
        "data = data[['#Passengers']]  # Use the correct column name\n",
        "\n",
        "# Step 2: Preprocess the data\n",
        "scaler = MinMaxScaler(feature_range=(0, 1))\n",
        "scaled_data = scaler.fit_transform(data)\n",
        "\n",
        "def create_sequences(data, sequence_length):\n",
        "    x, y = [], []\n",
        "    for i in range(len(data) - sequence_length):\n",
        "        x.append(data[i:i + sequence_length])\n",
        "        y.append(data[i + sequence_length])\n",
        "    return np.array(x), np.array(y)\n",
        "\n",
        "sequence_length = 50\n",
        "X, y = create_sequences(scaled_data, sequence_length)\n",
        "X = np.expand_dims(X, axis=-1)  # Add feature dimension for LSTM\n",
        "X_train, X_test, y_train, y_test = train_test_split(X, y, test_size=0.2, random_state=42)\n",
        "\n",
        "# Step 3: Function to build the LSTM model with random layers and neurons\n",
        "def build_model(units, learning_rate, optimizer, activation, dropout_rate, num_layers):\n",
        "    model = Sequential([Input(shape=(sequence_length, 1))])  # Input layer\n",
        "    for i in range(num_layers - 1):  # First layers return sequences\n",
        "        model.add(LSTM(units, activation=activation, return_sequences=True))\n",
        "        model.add(Dropout(dropout_rate))\n",
        "    model.add(LSTM(units, activation=activation, return_sequences=False))  # Last LSTM layer without return_sequences\n",
        "    model.add(Dense(1))\n",
        "    model.compile(optimizer=optimizer(learning_rate=learning_rate), loss='mse')\n",
        "    return model\n",
        "\n",
        "result = []\n",
        "\n",
        "def run_model(activation, optimizer, num_layers, units, epochs, batch_size):\n",
        "    model = build_model(units, 0.001, optimizer, activation, 0.02, num_layers)\n",
        "    history = model.fit(X_train, y_train, epochs=epochs, batch_size=batch_size, validation_data=(X_test, y_test), verbose=0)\n",
        "    train_loss = history.history['loss'][-1]\n",
        "    test_loss = history.history['val_loss'][-1]\n",
        "\n",
        "    result.append({\n",
        "        \"Activation\": activation,\n",
        "        \"Optimizer\": optimizer.__name__,\n",
        "        \"Num Layers\": num_layers,\n",
        "        \"Neurons\": units,\n",
        "        \"Epochs\": epochs,\n",
        "        \"Batch Size\": batch_size,\n",
        "        \"Train Loss\": train_loss,\n",
        "        \"Test Loss\": test_loss\n",
        "    })\n",
        "    print(f\"Activation: {activation}, Optimizer: {optimizer.__name__}, Num Layers: {num_layers}, Neurons: {units}, \"\n",
        "          f\"Epochs: {epochs}, Batch Size: {batch_size}, Train Loss: {train_loss}, Test Loss: {test_loss}\")\n",
        "\n",
        "for i in range(5):\n",
        "    activation = np.random.choice(['relu', 'tanh', 'sigmoid'])\n",
        "    optimizer = np.random.choice([Adam, SGD])\n",
        "    num_layers = int(np.random.choice([1, 2, 3]))  # Randomly choose the number of LSTM layers between 1 to 3\n",
        "    units = int(np.random.choice([32, 64, 128, 256]))  # Force units to be an integer\n",
        "    epochs = int(np.random.choice([20, 50, 100]))  # Randomly choose epochs\n",
        "    batch_size = int(np.random.choice([16, 32, 64]))  # Randomly choose batch size\n",
        "\n",
        "    run_model(activation, optimizer, num_layers, units, epochs, batch_size)\n",
        "\n",
        "# Save the result to a CSV file\n",
        "result_df = pd.DataFrame(result)\n",
        "result_df.to_csv('/content/model_results.csv', index=False)\n",
        "print(\"Results saved to 'model_results.csv'\")\n"
      ],
      "metadata": {
        "colab": {
          "base_uri": "https://localhost:8080/"
        },
        "id": "sgpUiz8jWskI",
        "outputId": "76ccc80d-33b4-4bd2-96f5-6dbd39cadc2f"
      },
      "execution_count": 2,
      "outputs": [
        {
          "output_type": "stream",
          "name": "stdout",
          "text": [
            "Activation: tanh, Optimizer: Adam, Num Layers: 1, Neurons: 64, Epochs: 50, Batch Size: 32, Train Loss: 0.013688984327018261, Test Loss: 0.007966475561261177\n",
            "Activation: sigmoid, Optimizer: Adam, Num Layers: 2, Neurons: 128, Epochs: 20, Batch Size: 32, Train Loss: 0.03819623962044716, Test Loss: 0.02470286563038826\n",
            "Activation: tanh, Optimizer: SGD, Num Layers: 1, Neurons: 256, Epochs: 100, Batch Size: 64, Train Loss: 0.04321045055985451, Test Loss: 0.020984547212719917\n",
            "Activation: relu, Optimizer: SGD, Num Layers: 1, Neurons: 32, Epochs: 100, Batch Size: 64, Train Loss: 0.09643734991550446, Test Loss: 0.059228263795375824\n",
            "Activation: relu, Optimizer: SGD, Num Layers: 3, Neurons: 128, Epochs: 20, Batch Size: 64, Train Loss: 0.20133879780769348, Test Loss: 0.1443512886762619\n",
            "Results saved to 'model_results.csv'\n"
          ]
        }
      ]
    }
  ]
}